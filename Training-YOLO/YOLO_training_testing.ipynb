{
  "cells": [
    {
      "cell_type": "markdown",
      "metadata": {
        "id": "XyOiY6OCtjA3"
      },
      "source": [
        "# Building a YOLO Object Detector with Darknet in the Cloud!"
      ]
    },
    {
      "cell_type": "markdown",
      "metadata": {
        "id": "NDfcaIbeDAok"
      },
      "source": [
        "#### **This notebook was copied and adapted from https://github.com/theAIGuysCode/YOLOv3-Cloud-Tutorial**, which includes a step-by-step explanation at https://www.youtube.com/watch?v=10joRJt39Ns."
      ]
    },
    {
      "cell_type": "markdown",
      "metadata": {
        "id": "wQaH53afmrZC"
      },
      "source": [
        "# Step 1: Configure Darknet, YOLO, mount Google Drive"
      ]
    },
    {
      "cell_type": "markdown",
      "source": [
        "### How to run this code\n",
        "1. Copy all required files to a folder in your drive:\n",
        "  - empty folder named 'backup', where training weights will be stored\n",
        "  - generate_train.py\n",
        "  - generate_test.py\n",
        "  - obj.data\n",
        "  - obj.names\n",
        "  - obj.zip\n",
        "  - val.zip\n",
        "  - cfg file\n",
        "2. In the first line of code, define the path to your folder.\n",
        "3. Run the code.\n",
        "\n",
        "\n",
        "### The input labelling data for training YOLO is the in following format:\n",
        "    class x y width height\n",
        "\n",
        "- with *class* being the number of the class (e.g., 0, 1, 2, ...)\n",
        "\n",
        "- with *x* and *y* being the center xy coordinate of the bounding box, normalized from 0 to 1 relative to the image size\n",
        "\n",
        "- with *width* and *height* being the width and height of the bounding box, normalized from 0 to 1 relative to the image size\n",
        "\n",
        "\n",
        "### The output bounding box data is in the following format:\n",
        "    class x y width height\n",
        "\n",
        "- with *class* being the name of the class and its probability\n",
        "\n",
        "- with *x* and *y* being the top left xy coordinate of the bounding box, in pixels\n",
        "\n",
        "- with *width* and *height* being the width and height of the bounding box, in pixels\n",
        "\n"
      ],
      "metadata": {
        "id": "B-oaWEPSluUB"
      }
    },
    {
      "cell_type": "code",
      "source": [
        "# Define the path to the folder in your drive\n",
        "foldername = \"foldername\""
      ],
      "metadata": {
        "id": "5YJNYzj1E_rP"
      },
      "execution_count": null,
      "outputs": []
    },
    {
      "cell_type": "code",
      "execution_count": null,
      "metadata": {
        "id": "HCs4VQmESACk"
      },
      "outputs": [],
      "source": [
        "# clone darknet repo\n",
        "!git clone https://github.com/AlexeyAB/darknet"
      ]
    },
    {
      "cell_type": "code",
      "execution_count": null,
      "metadata": {
        "id": "5H-Taj06Tw1c"
      },
      "outputs": [],
      "source": [
        "# change makefile to have GPU and OPENCV enabled\n",
        "%cd darknet\n",
        "!sed -i 's/OPENCV=0/OPENCV=1/' Makefile\n",
        "!sed -i 's/GPU=0/GPU=1/' Makefile\n",
        "!sed -i 's/CUDNN=0/CUDNN=1/' Makefile\n",
        "!echo \"ARCH= -gencode arch=compute_75,code=sm_75\" >> Makefile"
      ]
    },
    {
      "cell_type": "code",
      "execution_count": null,
      "metadata": {
        "id": "aNv1UHwXZK57"
      },
      "outputs": [],
      "source": [
        "# verify CUDA\n",
        "!/usr/local/cuda/bin/nvcc --version"
      ]
    },
    {
      "cell_type": "code",
      "execution_count": null,
      "metadata": {
        "id": "3DWRrVatZZZg"
      },
      "outputs": [],
      "source": [
        "# make darknet (build)\n",
        "!make"
      ]
    },
    {
      "cell_type": "code",
      "execution_count": null,
      "metadata": {
        "id": "w4Pm0VoqmGia"
      },
      "outputs": [],
      "source": [
        "# define helper functions\n",
        "def imShow(path):\n",
        "  import cv2\n",
        "  import matplotlib.pyplot as plt\n",
        "  %matplotlib inline\n",
        "\n",
        "  image = cv2.imread(path)\n",
        "  height, width = image.shape[:2]\n",
        "  resized_image = cv2.resize(image,(3*width, 3*height), interpolation = cv2.INTER_CUBIC)\n",
        "\n",
        "  fig = plt.gcf()\n",
        "  fig.set_size_inches(18, 10)\n",
        "  plt.axis(\"off\")\n",
        "  plt.imshow(cv2.cvtColor(resized_image, cv2.COLOR_BGR2RGB))\n",
        "  plt.show()\n",
        "\n",
        "# use this to upload files\n",
        "def upload():\n",
        "  from google.colab import files\n",
        "  uploaded = files.upload()\n",
        "  for name, data in uploaded.items():\n",
        "    with open(name, 'wb') as f:\n",
        "      f.write(data)\n",
        "      print ('saved file', name)\n",
        "\n",
        "# use this to download a file\n",
        "def download(path):\n",
        "  from google.colab import files\n",
        "  files.download(path)"
      ]
    },
    {
      "cell_type": "code",
      "execution_count": null,
      "metadata": {
        "id": "j9lmJEnGEu-7",
        "collapsed": true
      },
      "outputs": [],
      "source": [
        "%cd ..\n",
        "from google.colab import drive\n",
        "drive.mount('/content/gdrive')"
      ]
    },
    {
      "cell_type": "code",
      "execution_count": null,
      "metadata": {
        "id": "yreDPcJdoo29"
      },
      "outputs": [],
      "source": [
        "# this creates a symbolic link so that now the path /content/gdrive/My\\ Drive/ is equal to /mydrive\n",
        "!ln -s /content/gdrive/My\\ Drive/ /mydrive\n",
        "!ls /mydrive"
      ]
    },
    {
      "cell_type": "markdown",
      "metadata": {
        "id": "Dye1-pgt4WS0"
      },
      "source": [
        "# Step 2: Moving Your Custom Dataset Into Your Cloud VM"
      ]
    },
    {
      "cell_type": "code",
      "execution_count": null,
      "metadata": {
        "id": "0_JRC13hK7Zr"
      },
      "outputs": [],
      "source": [
        "# this is where my zip is stored (I created a yolov3 folder where I will get my required files from)\n",
        "!ls /mydrive/{foldername}"
      ]
    },
    {
      "cell_type": "code",
      "execution_count": null,
      "metadata": {
        "id": "YpljhMVHOx9X"
      },
      "outputs": [],
      "source": [
        "# copy the .zip file into the root directory of cloud VM\n",
        "!cp /mydrive/{foldername}/obj.zip ../"
      ]
    },
    {
      "cell_type": "code",
      "execution_count": null,
      "metadata": {
        "id": "45en565PPLce"
      },
      "outputs": [],
      "source": [
        "# unzip the zip file and its contents should now be in /data/obj\n",
        "!unzip ../obj.zip -d data/"
      ]
    },
    {
      "cell_type": "markdown",
      "metadata": {
        "id": "bVst_Nyhkq0B"
      },
      "source": [
        "# Step 3: Configuring Files for Training\n",
        "\n",
        "Additional information: https://www.youtube.com/watch?v=zJDUhGL26iU&t=300s"
      ]
    },
    {
      "cell_type": "code",
      "execution_count": null,
      "metadata": {
        "id": "FKGP15SmrXLe"
      },
      "outputs": [],
      "source": [
        "# upload the custom .cfg back to cloud VM from Google Drive\n",
        "!cp /mydrive/{foldername}/yolov7-tiny.cfg ./yolov7-tiny.cfg\n",
        "\n",
        "# upload the custom .cfg back to cloud VM from local machine (uncomment to use)\n",
        "#%cd cfg\n",
        "#upload()\n",
        "#%cd .."
      ]
    },
    {
      "cell_type": "markdown",
      "metadata": {
        "id": "JcSrw86FzgkO"
      },
      "source": [
        "## ii) obj.names and obj.data\n",
        "\n"
      ]
    },
    {
      "cell_type": "code",
      "execution_count": null,
      "metadata": {
        "id": "qBmbHd7M16lK"
      },
      "outputs": [],
      "source": [
        "# upload the obj.names and obj.data files to cloud VM from Google Drive\n",
        "!cp /mydrive/{foldername}/obj.names ./data\n",
        "!cp /mydrive/{foldername}/obj.data  ./data\n",
        "\n",
        "# upload the obj.names and obj.data files to cloud VM from local machine (uncomment to use)\n",
        "#%cd data\n",
        "#upload()\n",
        "#%cd .."
      ]
    },
    {
      "cell_type": "markdown",
      "metadata": {
        "id": "AynO1huO4Kzd"
      },
      "source": [
        "## iii) Generating train.txt\n"
      ]
    },
    {
      "cell_type": "code",
      "execution_count": null,
      "metadata": {
        "id": "cKBeIp7V44nu"
      },
      "outputs": [],
      "source": [
        "# upload the generate_train.py script to cloud VM from Google Drive\n",
        "!cp /mydrive/{foldername}/generate_train.py ./\n",
        "\n",
        "# upload the generate_train.py script to cloud VM from local machine (uncomment to use)\n",
        "#upload()\n"
      ]
    },
    {
      "cell_type": "markdown",
      "metadata": {
        "id": "k9Ikig-H5wpw"
      },
      "source": [
        "Now we simply run the python script to do all the work for us."
      ]
    },
    {
      "cell_type": "code",
      "execution_count": null,
      "metadata": {
        "id": "o4HBBgk3503F"
      },
      "outputs": [],
      "source": [
        "!python generate_train.py"
      ]
    },
    {
      "cell_type": "code",
      "execution_count": null,
      "metadata": {
        "id": "CIFjMSlX6DfP"
      },
      "outputs": [],
      "source": [
        "# verify train.txt can be seen in our /data folder\n",
        "!ls data/"
      ]
    },
    {
      "cell_type": "markdown",
      "metadata": {
        "id": "DKDmFrUH7JHy"
      },
      "source": [
        "# Step 4: Download pre-trained weights for the convolutional layers.\n"
      ]
    },
    {
      "cell_type": "code",
      "execution_count": null,
      "metadata": {
        "id": "k5SYWDPv7qG-"
      },
      "outputs": [],
      "source": [
        "# upload pretrained convolutional layer weights\n",
        "#!wget http://pjreddie.com/media/files/darknet53.conv.74\n",
        "\n",
        "#!wget https://pjreddie.com/media/files/yolov3-tiny.weights"
      ]
    },
    {
      "cell_type": "code",
      "execution_count": null,
      "metadata": {
        "id": "CsCJbmltAL8d"
      },
      "outputs": [],
      "source": [
        "# This stops 'Run all' at this cell by causing an error\n",
        "assert False"
      ]
    },
    {
      "cell_type": "markdown",
      "metadata": {
        "id": "VHw00Cro8ONr"
      },
      "source": [
        "# Step 5: Train Your Custom Object Detector!\n"
      ]
    },
    {
      "cell_type": "code",
      "execution_count": null,
      "metadata": {
        "id": "IrT9LSjc8LMt"
      },
      "outputs": [],
      "source": [
        "# train your custom detector\n",
        "!darknet/darknet detector train data/obj.data ./yolov7-tiny.cfg -dont_show -clear"
      ]
    },
    {
      "cell_type": "markdown",
      "metadata": {
        "id": "WmevLHkCPAjL"
      },
      "source": [
        "You can observe a chart of how your model did throughout the training process by running the below command. It shows a chart of your average loss vs. iterations. For your model to be 'accurate' you would aim for a loss under 2."
      ]
    },
    {
      "cell_type": "code",
      "execution_count": null,
      "metadata": {
        "id": "8X8Hu3RLQB-2"
      },
      "outputs": [],
      "source": [
        "imShow('chart.png')"
      ]
    },
    {
      "cell_type": "code",
      "execution_count": null,
      "metadata": {
        "id": "yE_Q7BXxXxMl"
      },
      "outputs": [],
      "source": [
        "# continue training using the last-saved weights (if training was interrupted)\n",
        "!darknet/darknet detector train data/obj.data ./yolov7-tiny.cfg /mydrive/{foldername}/backup/yolov7-tiny_last.weights -dont_show"
      ]
    },
    {
      "cell_type": "markdown",
      "metadata": {
        "id": "UEtAeSXz-MMW"
      },
      "source": [
        "# Step 6: Validate Your Custom Object Detector"
      ]
    },
    {
      "cell_type": "code",
      "execution_count": null,
      "metadata": {
        "id": "rjYwChYu-85I"
      },
      "outputs": [],
      "source": [
        "# copy the .zip file into the root directory of cloud VM\n",
        "!cp /mydrive/{foldername}/val.zip ../"
      ]
    },
    {
      "cell_type": "code",
      "execution_count": null,
      "metadata": {
        "id": "H0aMHJAA_Btz"
      },
      "outputs": [],
      "source": [
        "# unzip the zip file and its contents should now be in /data/val\n",
        "!unzip ../val.zip -d data/"
      ]
    },
    {
      "cell_type": "code",
      "execution_count": null,
      "metadata": {
        "id": "eXxU7CFy_S3f"
      },
      "outputs": [],
      "source": [
        "# upload the generate_test.py script to cloud VM from Google Drive\n",
        "!cp /mydrive/{foldername}/generate_test.py ./"
      ]
    },
    {
      "cell_type": "code",
      "execution_count": null,
      "metadata": {
        "id": "UYAXYQsd_bOL"
      },
      "outputs": [],
      "source": [
        "!python generate_test.py"
      ]
    },
    {
      "cell_type": "code",
      "execution_count": null,
      "metadata": {
        "id": "xHsuyx4a_di-"
      },
      "outputs": [],
      "source": [
        "# verify test.txt can be seen in our /data folder\n",
        "!ls data/"
      ]
    },
    {
      "cell_type": "code",
      "execution_count": null,
      "metadata": {
        "id": "gHGH9ezyAECp"
      },
      "outputs": [],
      "source": [
        "# To evaluate the model’s performance over the test set, run the following command:\n",
        "!darknet/darknet detector map data/obj.data ./yolov7-tiny.cfg /mydrive/{foldername}/backup/yolov7-tiny_last.weights -thresh 0.8 -iou_thresh 0.7"
      ]
    },
    {
      "cell_type": "markdown",
      "metadata": {
        "id": "N29uHgipYsY2"
      },
      "source": [
        "# Step 7: Run Your Custom Object Detector"
      ]
    },
    {
      "cell_type": "code",
      "execution_count": null,
      "metadata": {
        "id": "CzWTss9BZaDx"
      },
      "outputs": [],
      "source": [
        "# need to set our custom cfg to test mode\n",
        "!sed -i 's/batch=64/batch=1/' yolov7-tiny.cfg\n",
        "!sed -i 's/subdivisions=2/subdivisions=1/' yolov7-tiny.cfg\n",
        "\n"
      ]
    },
    {
      "cell_type": "code",
      "execution_count": null,
      "metadata": {
        "id": "rBPEqumuZ0aG"
      },
      "outputs": [],
      "source": [
        "# run your custom detector with this command (upload an image to your google drive to test (e.g., named img.jpg))\n",
        "!darknet/darknet detector test data/obj.data ./yolov7-tiny.cfg /mydrive/{foldername}/backup/yolov7-tiny_final.weights /mydrive/{foldername}/img.jpg -thresh 0.8  -ext_output > output.txt\n",
        "imShow('predictions.jpg')"
      ]
    },
    {
      "cell_type": "code",
      "execution_count": null,
      "metadata": {
        "id": "wf2KNhClDaPM"
      },
      "outputs": [],
      "source": [
        "# download results to google drive\n",
        "!cp predictions.jpg /mydrive/{foldername}/img_prediction.jpg\n",
        "!cp output.txt /mydrive/{foldername}/img_prediction.txt"
      ]
    }
  ],
  "metadata": {
    "accelerator": "GPU",
    "colab": {
      "provenance": []
    },
    "kernelspec": {
      "display_name": "Python 3",
      "name": "python3"
    }
  },
  "nbformat": 4,
  "nbformat_minor": 0
}